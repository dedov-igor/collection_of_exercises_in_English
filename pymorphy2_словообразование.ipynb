{
 "cells": [
  {
   "cell_type": "code",
   "execution_count": 4,
   "id": "7d50c4fc-fe3e-424f-b3e8-7132cf83e267",
   "metadata": {},
   "outputs": [],
   "source": [
    "# !pip install pymorphy2[fast] \n",
    "# https://pymorphy2.readthedocs.io/en/stable/user/guide.html"
   ]
  },
  {
   "cell_type": "code",
   "execution_count": 5,
   "id": "e07c9a1c-0b4c-486e-814d-3d6d2a3392fc",
   "metadata": {},
   "outputs": [],
   "source": [
    "import pymorphy2"
   ]
  },
  {
   "cell_type": "code",
   "execution_count": 6,
   "id": "64edf18f-9e54-4dd0-9c30-96ee9114df04",
   "metadata": {},
   "outputs": [],
   "source": [
    "morph = pymorphy2.MorphAnalyzer()"
   ]
  },
  {
   "cell_type": "code",
   "execution_count": 11,
   "id": "fa5f9924-380f-4de8-9aba-e1d141560cc8",
   "metadata": {},
   "outputs": [
    {
     "data": {
      "text/plain": [
       "Parse(word='котами', tag=OpencorporaTag('NOUN,anim,masc plur,ablt'), normal_form='кот', score=0.8, methods_stack=((DictionaryAnalyzer(), 'котами', 52, 10),))"
      ]
     },
     "execution_count": 11,
     "metadata": {},
     "output_type": "execute_result"
    }
   ],
   "source": [
    "m = morph.parse('котами')[0]\n",
    "m"
   ]
  },
  {
   "cell_type": "code",
   "execution_count": 15,
   "id": "d22024d1-6c23-4a75-9013-accd50127940",
   "metadata": {},
   "outputs": [
    {
     "data": {
      "text/plain": [
       "Parse(word='котов', tag=OpencorporaTag('NOUN,anim,masc plur,gent'), normal_form='кот', score=1.0, methods_stack=((DictionaryAnalyzer(), 'котов', 52, 7),))"
      ]
     },
     "execution_count": 15,
     "metadata": {},
     "output_type": "execute_result"
    }
   ],
   "source": [
    "m.inflect({'gent'})"
   ]
  },
  {
   "cell_type": "code",
   "execution_count": 18,
   "id": "302d24ca-11c6-43e9-b1b6-dd620c924553",
   "metadata": {},
   "outputs": [
    {
     "data": {
      "text/plain": [
       "'коты'"
      ]
     },
     "execution_count": 18,
     "metadata": {},
     "output_type": "execute_result"
    }
   ],
   "source": [
    "m.inflect({'nomn'}).word"
   ]
  },
  {
   "cell_type": "code",
   "execution_count": 14,
   "id": "372ba686-d103-4039-bd27-2227ac0b7cc5",
   "metadata": {},
   "outputs": [
    {
     "data": {
      "text/plain": [
       "'котов'"
      ]
     },
     "execution_count": 14,
     "metadata": {},
     "output_type": "execute_result"
    }
   ],
   "source": [
    "m.inflect({'gent'}).word"
   ]
  },
  {
   "cell_type": "code",
   "execution_count": 17,
   "id": "4a02e668-3c59-4f2b-848f-d994f7c740af",
   "metadata": {},
   "outputs": [
    {
     "data": {
      "text/plain": [
       "'котам'"
      ]
     },
     "execution_count": 17,
     "metadata": {},
     "output_type": "execute_result"
    }
   ],
   "source": [
    "m.inflect({'datv'}).word"
   ]
  },
  {
   "cell_type": "code",
   "execution_count": 41,
   "id": "13b7498f-cb61-44ac-92c8-3761ebc22971",
   "metadata": {},
   "outputs": [
    {
     "data": {
      "text/plain": [
       "'котов'"
      ]
     },
     "execution_count": 41,
     "metadata": {},
     "output_type": "execute_result"
    }
   ],
   "source": [
    "m.inflect({'plur', 'gent'}).word"
   ]
  },
  {
   "cell_type": "code",
   "execution_count": 48,
   "id": "7d098b15-32dd-4c69-88a7-e82e821dacc9",
   "metadata": {},
   "outputs": [],
   "source": [
    "lst = ['nomn', 'gent', 'datv', 'accs', 'ablt', 'loct']\n",
    "number = ['sing', 'plur']"
   ]
  },
  {
   "cell_type": "code",
   "execution_count": 54,
   "id": "f8b66db6-f4be-4ee9-84f6-b8bb76e487c5",
   "metadata": {},
   "outputs": [
    {
     "name": "stdout",
     "output_type": "stream",
     "text": [
      "кот\n",
      "коты\n",
      "кота\n",
      "котов\n",
      "коту\n",
      "котам\n",
      "кота\n",
      "котов\n",
      "котом\n",
      "котами\n",
      "коте\n",
      "котах\n"
     ]
    }
   ],
   "source": [
    "# m1 = m.inflect({})\n",
    "for _pos in lst:\n",
    "    for numb in number:\n",
    "        s = {numb, _pos}\n",
    "        print(m.inflect(s).word)"
   ]
  }
 ],
 "metadata": {
  "kernelspec": {
   "display_name": "Python 3",
   "language": "python",
   "name": "python3"
  },
  "language_info": {
   "codemirror_mode": {
    "name": "ipython",
    "version": 3
   },
   "file_extension": ".py",
   "mimetype": "text/x-python",
   "name": "python",
   "nbconvert_exporter": "python",
   "pygments_lexer": "ipython3",
   "version": "3.8.8"
  }
 },
 "nbformat": 4,
 "nbformat_minor": 5
}

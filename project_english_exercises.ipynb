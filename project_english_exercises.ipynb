{
 "cells": [
  {
   "cell_type": "markdown",
   "id": "ba3c8baa-3fbb-4b6d-b765-f6ce1aebb512",
   "metadata": {},
   "source": [
    "# Генератор упражнений по английскому языку"
   ]
  },
  {
   "cell_type": "markdown",
   "id": "143f1b77-af06-4330-ae01-7a64cf27e5a1",
   "metadata": {},
   "source": [
    "Генератор по тексту генерирует 4 вида упражнений:\n",
    "* Auxiliary verb - вставка вспомогательного глагола\n",
    "* Words by association - подбор ассоциации к слову\n",
    "* Choose the correct verb form - выбрать правильную форму глагола \n",
    "* Sentence transformation - выбрать правильное предложение \n",
    "\n",
    "Количество генерируемых каждого вида упражнений определяется в модуле - selection_of_k_exercises\n",
    "\n",
    "Запись упражнений в датасет выполняется в модуле - filling_of_datasets\n",
    "\n",
    "На выходе получаем датасет с набором упражнений."
   ]
  },
  {
   "cell_type": "code",
   "execution_count": 1,
   "id": "a37e687d-e090-4835-bff3-2b302d03a47f",
   "metadata": {},
   "outputs": [],
   "source": [
    "import pandas as pd\n",
    "import numpy as np\n",
    "import random"
   ]
  },
  {
   "cell_type": "code",
   "execution_count": 2,
   "id": "4403145b-52d5-4633-9865-28d031dfed20",
   "metadata": {},
   "outputs": [],
   "source": [
    "# pip install pyinflect"
   ]
  },
  {
   "cell_type": "code",
   "execution_count": 2,
   "id": "88cec19f-cb29-4573-b389-0cacfc934dd2",
   "metadata": {},
   "outputs": [
    {
     "name": "stderr",
     "output_type": "stream",
     "text": [
      "[nltk_data] Downloading package extended_omw to\n",
      "[nltk_data]     C:\\Users\\igor\\AppData\\Roaming\\nltk_data...\n",
      "[nltk_data]   Package extended_omw is already up-to-date!\n"
     ]
    }
   ],
   "source": [
    "import json\n",
    "\n",
    "import spacy\n",
    "from spacy import displacy\n",
    "import en_core_web_sm\n",
    "import pyinflect\n",
    "\n",
    "import gensim.downloader as api\n",
    "\n",
    "import nltk\n",
    "nltk.download(\"extended_omw\")\n",
    "from nltk.corpus import wordnet"
   ]
  },
  {
   "cell_type": "code",
   "execution_count": 3,
   "id": "552bfcf1-fb0d-4b00-97ef-d2c2a533fc19",
   "metadata": {},
   "outputs": [],
   "source": [
    "# малая модель spacy\n",
    "nlp = en_core_web_sm.load()\n",
    "\n",
    "# малая модель glove wiki\n",
    "# долго скачивает, если она еще не установлена\n",
    "model = api.load(\"glove-wiki-gigaword-100\")"
   ]
  },
  {
   "cell_type": "code",
   "execution_count": 4,
   "id": "bf5c4666-705b-4aa0-be17-c2caaee43fb8",
   "metadata": {},
   "outputs": [],
   "source": [
    "filename = 'red_hat\\Little_Red_Riding_Hood_Charles_Perrault.txt'"
   ]
  },
  {
   "cell_type": "code",
   "execution_count": 5,
   "id": "7ade8bf9-009d-4022-a37d-8bf4f2346cc3",
   "metadata": {},
   "outputs": [],
   "source": [
    "df = pd.DataFrame(columns=['raw', 'type', 'object', 'options', 'answer', 'description'])"
   ]
  },
  {
   "cell_type": "code",
   "execution_count": 6,
   "id": "28ff6a48-f832-44ce-99d9-27314ef935e0",
   "metadata": {},
   "outputs": [],
   "source": [
    "list_text = []\n",
    "with open(filename, 'r', encoding='UTF-8') as file:\n",
    "    while line := file.readline():\n",
    "        if len(line.rstrip()) > 0:\n",
    "            for sent in nlp(line).sents:\n",
    "                if len(str(sent).rstrip()) > 1:\n",
    "                    list_text.append(str(sent).rstrip())"
   ]
  },
  {
   "cell_type": "markdown",
   "id": "1158be3a-9f74-46fb-8212-33c9a5557bb6",
   "metadata": {},
   "source": [
    "# Selection of k exercises"
   ]
  },
  {
   "cell_type": "code",
   "execution_count": 7,
   "id": "5c0131ff-d15c-4be8-b714-c4d59930ef72",
   "metadata": {},
   "outputs": [],
   "source": [
    "# Выборка k случайных упражнений для добавлениея в датасет\n",
    "def selection_of_k_exercises(list_exercise, k=10): # k - количество упражнений включаемых в датасет\n",
    "    return random.sample(list_exercise, k)"
   ]
  },
  {
   "cell_type": "markdown",
   "id": "beb80e14-7e09-4eeb-abdd-e2e035b7a236",
   "metadata": {},
   "source": [
    "# Filling_of_datasets"
   ]
  },
  {
   "cell_type": "code",
   "execution_count": 8,
   "id": "056d61ef-9fbf-4ea6-9113-ade099a7ed46",
   "metadata": {},
   "outputs": [],
   "source": [
    "# Модуль занесения готовых упражнений в датасет\n",
    "def filling_of_datasets(list_of_exercises):\n",
    "    for _ in list_k_exercises:\n",
    "        df.loc[len(df)] = {'raw' : _[0],\n",
    "                       'type' : _[1],\n",
    "                       'object' : _[2],\n",
    "                       'options' : _[3],\n",
    "                       'answer' : _[4],\n",
    "                       'description' : _[5]\n",
    "                      }    \n",
    "    return print('success')"
   ]
  },
  {
   "cell_type": "markdown",
   "id": "e1b37278-942a-474f-94c1-ce70507bf77c",
   "metadata": {},
   "source": [
    "# Auxiliary verb"
   ]
  },
  {
   "cell_type": "code",
   "execution_count": 9,
   "id": "a1703308-6a0c-4943-8dd1-91370ee5c508",
   "metadata": {},
   "outputs": [],
   "source": [
    "# Создание упражнений: вставка вспомогательного глагола\n",
    "def inserting_an_auxiliary_verb(list_text):\n",
    "    helping_verbs = ['am', 'are', 'is', 'was', 'were', 'do', 'does', 'did', 'have', 'has', 'had', 'doing', 'having', 'should', 'will']\n",
    "    exercise_auxiliary_verb = []\n",
    "    \n",
    "    for _sentences in list_text:\n",
    "        sentences_auxiliary_verb = []\n",
    "        for token in nlp(_sentences):\n",
    "            if token.text in helping_verbs:\n",
    "                sentences_auxiliary_verb.append(_sentences)\n",
    "                sentences_auxiliary_verb.append('missing_word')\n",
    "                sentences_exercise = _sentences.replace(token.text, \"******\")\n",
    "                sentences_auxiliary_verb.append(sentences_exercise)\n",
    "                sentences_auxiliary_verb.append([])\n",
    "                i = _sentences.find(token.text)\n",
    "                ln = len(token.text)\n",
    "                sentences_auxiliary_verb.append(_sentences[i: i + ln])\n",
    "                sentences_auxiliary_verb.append('Заполните пропуск вспомогательным глаголом')\n",
    "                break # одна замена на предложение\n",
    "        if len(sentences_auxiliary_verb) > 0:\n",
    "            exercise_auxiliary_verb.append(sentences_auxiliary_verb)\n",
    "    print(f'Количество созданных упражнений {len(exercise_auxiliary_verb)}')\n",
    "    return exercise_auxiliary_verb"
   ]
  },
  {
   "cell_type": "code",
   "execution_count": 10,
   "id": "caabcde0-49c9-446a-8fca-d97bfe3a722b",
   "metadata": {},
   "outputs": [
    {
     "name": "stdout",
     "output_type": "stream",
     "text": [
      "Количество созданных упражнений 24\n"
     ]
    }
   ],
   "source": [
    "list_auxiliary_verb = inserting_an_auxiliary_verb(list_text)"
   ]
  },
  {
   "cell_type": "code",
   "execution_count": 11,
   "id": "80b8c98d-a6ad-4653-af57-47e20eef7edd",
   "metadata": {},
   "outputs": [
    {
     "name": "stdout",
     "output_type": "stream",
     "text": [
      "success\n"
     ]
    }
   ],
   "source": [
    "list_k_exercises = selection_of_k_exercises(list_auxiliary_verb, 10)\n",
    "filling_of_datasets(list_k_exercises)"
   ]
  },
  {
   "cell_type": "markdown",
   "id": "e545f156-2dae-492f-b0d5-5aa16087435a",
   "metadata": {},
   "source": [
    "# Words by association"
   ]
  },
  {
   "cell_type": "code",
   "execution_count": 12,
   "id": "9b609476-0e3e-493a-a499-b56f4ab65b55",
   "metadata": {},
   "outputs": [],
   "source": [
    "# Создание упражнений: подобрать ассоциации к слову\n",
    "def words_by_association(list_text):\n",
    "    # Упражнение: подобрать ассоциации к слову\n",
    "    exercise_association = []\n",
    "    \n",
    "    for _sentences in list_text:\n",
    "        association_list = []\n",
    "        for token in nlp(_sentences):\n",
    "            association_words = []\n",
    "            if token.pos_ in ['NOUN', 'VERB'] and not(token.text.istitle()) and len(token.text) > 4:\n",
    "                association_list.append(_sentences)\n",
    "                association_list.append('missing_word')\n",
    "                association_list.append(_sentences)\n",
    "                association_list.append([])\n",
    "                # ассоциаций в списке должно быть много, чтобы не пришлось угадывать слово из небольшого списка \n",
    "                msw1 = model.similar_by_word(token.text)\n",
    "                msw2 = model.most_similar(positive=[token.text,'good'], negative=['bad'])\n",
    "                msw3 = model.most_similar(positive=[token.text,'man'], negative=['woman'])\n",
    "                msw4 = model.most_similar(positive=[token.text,'short'], negative=['long'])\n",
    "                msw = msw1 + msw2 + msw3 + msw4\n",
    "                for _ in msw:\n",
    "                    association_words.append(_[0])\n",
    "\n",
    "                msw5 = []\n",
    "                for e in wordnet.synsets(token.text): # дополнительный поиск с помощью wordnet\n",
    "                    for _ in e.lemma_names():\n",
    "                        msw5.append(_)\n",
    "                    for i in e.lemmas():\n",
    "                        if i.antonyms(): # check whether the antonyms for the given word are available or not \n",
    "                            msw5.append(i.antonyms()[0].name()) # антонимы тоже могут быть ассоциациями            \n",
    "\n",
    "                msw_all = association_words + msw5\n",
    "                association_words_set = set(msw_all) # множество всех ассоциаций к слову\n",
    "                w = set()\n",
    "                for _ in association_words_set: # из списка ассоциаций удаляем однокоренные слова\n",
    "                    if _.find(token.text.lower()) != -1 or token.text.lower().find(_) != -1: \n",
    "                        w.add(_)\n",
    "                association_words_set = association_words_set - w\n",
    "                association_words_set = [w.replace('_', ' ') for w in association_words_set]\n",
    "                # association_list = [_sentences, token.text, association_words_set]\n",
    "                if len(association_words_set) < 8:\n",
    "                    break # Если ассоциаций мало не создаем упражнение на это слово\n",
    "                association_list.append(association_words_set)\n",
    "                association_list.append(f'Подберите ассоциацию к слову {token.text}')\n",
    "                exercise_association.append(association_list)\n",
    "                break # одно упражнение на одно предложение     \n",
    "    print(f'Количество созданных упражнений {len(exercise_association)}')\n",
    "    return exercise_association"
   ]
  },
  {
   "cell_type": "code",
   "execution_count": 13,
   "id": "2c25ce04-d4cc-4d6c-b0c9-a80a12662910",
   "metadata": {},
   "outputs": [
    {
     "name": "stdout",
     "output_type": "stream",
     "text": [
      "Количество созданных упражнений 33\n"
     ]
    }
   ],
   "source": [
    "list_words_by_association = words_by_association(list_text)"
   ]
  },
  {
   "cell_type": "code",
   "execution_count": 14,
   "id": "1678bc9c-1d60-4c6b-84d6-aab438101f17",
   "metadata": {
    "tags": []
   },
   "outputs": [
    {
     "name": "stdout",
     "output_type": "stream",
     "text": [
      "success\n"
     ]
    }
   ],
   "source": [
    "list_k_exercises = selection_of_k_exercises(list_words_by_association, 10)\n",
    "filling_of_datasets(list_k_exercises)"
   ]
  },
  {
   "cell_type": "markdown",
   "id": "9d00b560-a9d2-4a3f-bc86-61c4f4b3d38a",
   "metadata": {},
   "source": [
    "# Choose the correct verb form"
   ]
  },
  {
   "cell_type": "code",
   "execution_count": 15,
   "id": "b55465b2-e8be-43ae-9369-9ec10c68bb10",
   "metadata": {
    "tags": []
   },
   "outputs": [],
   "source": [
    "# Создание упражнений: выбрать правильную форму глагола\n",
    "def choose_correct_verb_form(list_text):\n",
    "    exercise_correct_verb_form = []\n",
    "    for _sentences in list_text:\n",
    "        list_correct_verb_form = []\n",
    "        for token in nlp(_sentences):            \n",
    "            if token.pos_=='VERB':\n",
    "                \n",
    "                list_correct_verb_form.append(_sentences)\n",
    "                list_correct_verb_form.append('select_word')\n",
    "                sentences_exercise = _sentences.replace(token.text, \"******\")\n",
    "                list_correct_verb_form.append(sentences_exercise)\n",
    "                vrb = set()\n",
    "                vrb.add(str(token))\n",
    "                vrb.add(token._.inflect('VBP'))\n",
    "                vrb.add(token._.inflect('VBZ'))\n",
    "                \n",
    "                vrb.add(token._.inflect('VBG'))\n",
    "                vrb.add(token._.inflect('VBD'))\n",
    "                # list_correct_verb_form = [_sentences, sentences_exercise, vrb, str(token)]\n",
    "                list_correct_verb_form.append(vrb)\n",
    "                list_correct_verb_form.append(token.text)\n",
    "                list_correct_verb_form.append('Выберите слово')\n",
    "                break # только одно упражнение в предложении\n",
    "        if len(list_correct_verb_form) > 0:\n",
    "            exercise_correct_verb_form.append(list_correct_verb_form)\n",
    "    print(f'Количество созданных упражнений {len(exercise_correct_verb_form)}')\n",
    "    return exercise_correct_verb_form   "
   ]
  },
  {
   "cell_type": "code",
   "execution_count": 16,
   "id": "9be0711f-91de-49aa-a664-cccb42a64c88",
   "metadata": {},
   "outputs": [
    {
     "name": "stdout",
     "output_type": "stream",
     "text": [
      "Количество созданных упражнений 40\n"
     ]
    }
   ],
   "source": [
    "list_choose_correct_verb_form = choose_correct_verb_form(list_text)"
   ]
  },
  {
   "cell_type": "code",
   "execution_count": 17,
   "id": "4269089a-d2a5-4395-bfd1-e8b777fa70e5",
   "metadata": {
    "tags": []
   },
   "outputs": [
    {
     "name": "stdout",
     "output_type": "stream",
     "text": [
      "success\n"
     ]
    }
   ],
   "source": [
    "list_k_exercises = selection_of_k_exercises(list_choose_correct_verb_form, 10)\n",
    "filling_of_datasets(list_k_exercises)"
   ]
  },
  {
   "cell_type": "markdown",
   "id": "64237632-8b6a-42c1-8f92-ea158e42a236",
   "metadata": {},
   "source": [
    "# Sentence transformation"
   ]
  },
  {
   "cell_type": "code",
   "execution_count": 18,
   "id": "645444de-f27a-4bb0-bee6-49d73ed992c5",
   "metadata": {},
   "outputs": [],
   "source": [
    "def sentence_transformation(list_text):\n",
    "    # Упражнение: выбрать правильное предложение\n",
    "    exercise_sentence_transf = []\n",
    "    i=5    \n",
    "    for _sentences in list_text:\n",
    "        if len(_sentences) > 40: # трансформацию не будем делать на коротких предложениях \n",
    "            new_sent_1, new_sent_2 = _sentences, _sentences\n",
    "            for token in nlp(_sentences):\n",
    "                list_sentence_transf = []\n",
    "                if token.pos_ in ['NOUN', 'VERB', 'ADV', 'ADJ']:\n",
    "                    m, n = np.random.randint(0, i, 2)\n",
    "\n",
    "                    new_word_1 = model.most_similar(token.text.lower(), topn=i)[m][0]\n",
    "                    new_word_2 = model.most_similar(positive = [token.text.lower(), 'bad'], negative = ['good'], topn=i)[n][0]\n",
    "\n",
    "                    new_word_1 = new_word_1.title() if token.text.istitle() else new_word_1\n",
    "                    new_word_2 = new_word_2.title() if token.text.istitle() else new_word_2\n",
    "\n",
    "                    new_sent_1 = new_sent_1.replace(token.text, new_word_1)\n",
    "                    new_sent_2 = new_sent_2.replace(token.text, new_word_2)\n",
    "\n",
    "                    list_sentence_transf.append(_sentences)\n",
    "                    list_sentence_transf.append('select_word')\n",
    "                    list_sentence_transf.append([])\n",
    "                    sentence_transf = [_sentences, new_sent_1, new_sent_2]\n",
    "                    random.shuffle(sentence_transf)\n",
    "                    list_sentence_transf.append(sentence_transf)\n",
    "                    list_sentence_transf.append(_sentences)\n",
    "                    list_sentence_transf.append('Выберите правильное предложение')\n",
    "            \n",
    "                if len(list_sentence_transf) > 0:\n",
    "                    exercise_sentence_transf.append(list_sentence_transf)\n",
    "                    break\n",
    "    print(f'Количество созданных упражнений {len(exercise_sentence_transf)}')\n",
    "    return exercise_sentence_transf       "
   ]
  },
  {
   "cell_type": "code",
   "execution_count": 19,
   "id": "7f08ddb3-276a-4f7d-8378-68d82c9e8079",
   "metadata": {},
   "outputs": [
    {
     "name": "stdout",
     "output_type": "stream",
     "text": [
      "Количество созданных упражнений 31\n"
     ]
    }
   ],
   "source": [
    "list_sentence_transformation = sentence_transformation(list_text)"
   ]
  },
  {
   "cell_type": "code",
   "execution_count": 20,
   "id": "9e5b390b-c041-4540-a4a1-516cdb31983a",
   "metadata": {},
   "outputs": [
    {
     "name": "stdout",
     "output_type": "stream",
     "text": [
      "success\n"
     ]
    }
   ],
   "source": [
    "list_k_exercises = selection_of_k_exercises(list_sentence_transformation, 10)\n",
    "filling_of_datasets(list_k_exercises)"
   ]
  },
  {
   "cell_type": "code",
   "execution_count": 21,
   "id": "7f6c078f-4af2-4f26-9980-d5258536f2c5",
   "metadata": {},
   "outputs": [
    {
     "data": {
      "text/html": [
       "<div>\n",
       "<style scoped>\n",
       "    .dataframe tbody tr th:only-of-type {\n",
       "        vertical-align: middle;\n",
       "    }\n",
       "\n",
       "    .dataframe tbody tr th {\n",
       "        vertical-align: top;\n",
       "    }\n",
       "\n",
       "    .dataframe thead th {\n",
       "        text-align: right;\n",
       "    }\n",
       "</style>\n",
       "<table border=\"1\" class=\"dataframe\">\n",
       "  <thead>\n",
       "    <tr style=\"text-align: right;\">\n",
       "      <th></th>\n",
       "      <th>raw</th>\n",
       "      <th>type</th>\n",
       "      <th>object</th>\n",
       "      <th>options</th>\n",
       "      <th>answer</th>\n",
       "      <th>description</th>\n",
       "    </tr>\n",
       "  </thead>\n",
       "  <tbody>\n",
       "    <tr>\n",
       "      <th>35</th>\n",
       "      <td>This good woman had a little red riding hood m...</td>\n",
       "      <td>select_word</td>\n",
       "      <td>[]</td>\n",
       "      <td>[This good woman had a little red riding hood ...</td>\n",
       "      <td>This good woman had a little red riding hood m...</td>\n",
       "      <td>Выберите правильное предложение</td>\n",
       "    </tr>\n",
       "    <tr>\n",
       "      <th>36</th>\n",
       "      <td>I say \"wolf,\" but there are various kinds of w...</td>\n",
       "      <td>select_word</td>\n",
       "      <td>[]</td>\n",
       "      <td>[I say \"wolf,\" but there are various kinds of ...</td>\n",
       "      <td>I say \"wolf,\" but there are various kinds of w...</td>\n",
       "      <td>Выберите правильное предложение</td>\n",
       "    </tr>\n",
       "    <tr>\n",
       "      <th>37</th>\n",
       "      <td>\"All the better to hug you with, my dear.</td>\n",
       "      <td>select_word</td>\n",
       "      <td>[]</td>\n",
       "      <td>[\"All the even to hug you with, my dear., \"All...</td>\n",
       "      <td>\"All the better to hug you with, my dear.</td>\n",
       "      <td>Выберите правильное предложение</td>\n",
       "    </tr>\n",
       "    <tr>\n",
       "      <th>38</th>\n",
       "      <td>The wolf, seeing her come in, said to her, hid...</td>\n",
       "      <td>select_word</td>\n",
       "      <td>[]</td>\n",
       "      <td>[The monster, seeing her come in, said to her,...</td>\n",
       "      <td>The wolf, seeing her come in, said to her, hid...</td>\n",
       "      <td>Выберите правильное предложение</td>\n",
       "    </tr>\n",
       "    <tr>\n",
       "      <th>39</th>\n",
       "      <td>The good grandmother, who was in bed, because ...</td>\n",
       "      <td>select_word</td>\n",
       "      <td>[]</td>\n",
       "      <td>[The worse grandmother, who was in bed, becaus...</td>\n",
       "      <td>The good grandmother, who was in bed, because ...</td>\n",
       "      <td>Выберите правильное предложение</td>\n",
       "    </tr>\n",
       "  </tbody>\n",
       "</table>\n",
       "</div>"
      ],
      "text/plain": [
       "                                                  raw         type object  \\\n",
       "35  This good woman had a little red riding hood m...  select_word     []   \n",
       "36  I say \"wolf,\" but there are various kinds of w...  select_word     []   \n",
       "37          \"All the better to hug you with, my dear.  select_word     []   \n",
       "38  The wolf, seeing her come in, said to her, hid...  select_word     []   \n",
       "39  The good grandmother, who was in bed, because ...  select_word     []   \n",
       "\n",
       "                                              options  \\\n",
       "35  [This good woman had a little red riding hood ...   \n",
       "36  [I say \"wolf,\" but there are various kinds of ...   \n",
       "37  [\"All the even to hug you with, my dear., \"All...   \n",
       "38  [The monster, seeing her come in, said to her,...   \n",
       "39  [The worse grandmother, who was in bed, becaus...   \n",
       "\n",
       "                                               answer  \\\n",
       "35  This good woman had a little red riding hood m...   \n",
       "36  I say \"wolf,\" but there are various kinds of w...   \n",
       "37          \"All the better to hug you with, my dear.   \n",
       "38  The wolf, seeing her come in, said to her, hid...   \n",
       "39  The good grandmother, who was in bed, because ...   \n",
       "\n",
       "                        description  \n",
       "35  Выберите правильное предложение  \n",
       "36  Выберите правильное предложение  \n",
       "37  Выберите правильное предложение  \n",
       "38  Выберите правильное предложение  \n",
       "39  Выберите правильное предложение  "
      ]
     },
     "execution_count": 21,
     "metadata": {},
     "output_type": "execute_result"
    }
   ],
   "source": [
    "df.tail()"
   ]
  },
  {
   "cell_type": "code",
   "execution_count": 22,
   "id": "2ed80f9c-9099-41ab-b3e5-bcd54f655086",
   "metadata": {},
   "outputs": [],
   "source": [
    "df.to_csv('project_df.csv', index=False)"
   ]
  }
 ],
 "metadata": {
  "kernelspec": {
   "display_name": "Python 3 (ipykernel)",
   "language": "python",
   "name": "python3"
  },
  "language_info": {
   "codemirror_mode": {
    "name": "ipython",
    "version": 3
   },
   "file_extension": ".py",
   "mimetype": "text/x-python",
   "name": "python",
   "nbconvert_exporter": "python",
   "pygments_lexer": "ipython3",
   "version": "3.10.9"
  }
 },
 "nbformat": 4,
 "nbformat_minor": 5
}
